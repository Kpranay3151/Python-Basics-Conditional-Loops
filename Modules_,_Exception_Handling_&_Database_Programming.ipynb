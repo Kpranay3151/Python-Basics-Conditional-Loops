{
  "nbformat": 4,
  "nbformat_minor": 0,
  "metadata": {
    "colab": {
      "name": "Modules , Exception Handling & Database Programming",
      "provenance": [],
      "collapsed_sections": [],
      "mount_file_id": "1bYuS6HARcjU2ucXqUzjXDaVfc6WY1DE8",
      "authorship_tag": "ABX9TyNPAO94fhriJBuB5rT30akD",
      "include_colab_link": true
    },
    "kernelspec": {
      "name": "python3",
      "display_name": "Python 3"
    },
    "language_info": {
      "name": "python"
    }
  },
  "cells": [
    {
      "cell_type": "markdown",
      "metadata": {
        "id": "view-in-github",
        "colab_type": "text"
      },
      "source": [
        "<a href=\"https://colab.research.google.com/github/Kpranay3151/Python-Basics-Conditional-Loops/blob/main/Modules_%2C_Exception_Handling_%26_Database_Programming.ipynb\" target=\"_parent\"><img src=\"https://colab.research.google.com/assets/colab-badge.svg\" alt=\"Open In Colab\"/></a>"
      ]
    },
    {
      "cell_type": "code",
      "metadata": {
        "colab": {
          "base_uri": "https://localhost:8080/"
        },
        "id": "cQof5Me7G1CR",
        "outputId": "5d677fce-9b14-4d86-da0e-8e8a115678a8"
      },
      "source": [
        "try:\n",
        "  5/0\n",
        "except Exception as e:\n",
        "  print(e)\n",
        "print(\"Above statemet prints the exception\")"
      ],
      "execution_count": 18,
      "outputs": [
        {
          "output_type": "stream",
          "name": "stdout",
          "text": [
            "division by zero\n",
            "Above statemet prints the exception\n"
          ]
        }
      ]
    },
    {
      "cell_type": "code",
      "metadata": {
        "colab": {
          "base_uri": "https://localhost:8080/"
        },
        "id": "akr9dEYHDgkP",
        "outputId": "e3b9d836-f6bf-4c73-d628-b84f44b9d735"
      },
      "source": [
        "subjects=[\"Americans\",\"Indians\"]\n",
        "verbs=[\"play\",\"watch\"]\n",
        "objects=[\"Baseball\",\"Cricket\"]\n",
        "for s in subjects:\n",
        "  for v in verbs:\n",
        "    for o in objects:\n",
        "      print(s,v,o)"
      ],
      "execution_count": 15,
      "outputs": [
        {
          "output_type": "stream",
          "name": "stdout",
          "text": [
            "Americans play Baseball\n",
            "Americans play Cricket\n",
            "Americans watch Baseball\n",
            "Americans watch Cricket\n",
            "Indians play Baseball\n",
            "Indians play Cricket\n",
            "Indians watch Baseball\n",
            "Indians watch Cricket\n"
          ]
        }
      ]
    }
  ]
}