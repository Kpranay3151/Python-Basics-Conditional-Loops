{
  "nbformat": 4,
  "nbformat_minor": 0,
  "metadata": {
    "colab": {
      "name": "String, Objects And List Objects.ipynb",
      "provenance": []
    },
    "kernelspec": {
      "name": "python3",
      "display_name": "Python 3"
    },
    "language_info": {
      "name": "python"
    }
  },
  "cells": [
    {
      "cell_type": "code",
      "metadata": {
        "colab": {
          "base_uri": "https://localhost:8080/"
        },
        "id": "YJ2gjp7I32hA",
        "outputId": "75efb3f3-219e-4816-a138-8d667780f125"
      },
      "source": [
        "t=0\n",
        "for i in range(10):\n",
        "  if i>5:\n",
        "    t=t+2\n",
        "    i=i-t\n",
        "    for j in range(i):\n",
        "      print(\"*\",end=\"\")\n",
        "  else:\n",
        "      for j in range(i):\n",
        "        print(\"*\",end=\"\")\n",
        "  print()"
      ],
      "execution_count": 4,
      "outputs": [
        {
          "output_type": "stream",
          "name": "stdout",
          "text": [
            "\n",
            "*\n",
            "**\n",
            "***\n",
            "****\n",
            "*****\n",
            "****\n",
            "***\n",
            "**\n",
            "*\n"
          ]
        }
      ]
    },
    {
      "cell_type": "code",
      "metadata": {
        "colab": {
          "base_uri": "https://localhost:8080/"
        },
        "id": "rH0OFOCL7C-x",
        "outputId": "6dae98d7-ebb5-42b5-b4b2-076f134aba19"
      },
      "source": [
        "word=input(\"enter a word \")\n",
        "print(word[::-1])"
      ],
      "execution_count": 6,
      "outputs": [
        {
          "output_type": "stream",
          "name": "stdout",
          "text": [
            "enter a word ineuron\n",
            "norueni\n"
          ]
        }
      ]
    }
  ]
}