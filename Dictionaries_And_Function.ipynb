{
  "nbformat": 4,
  "nbformat_minor": 0,
  "metadata": {
    "colab": {
      "name": "Dictionaries And Function.ipynb",
      "provenance": [],
      "collapsed_sections": [],
      "mount_file_id": "1bYuS6HARcjU2ucXqUzjXDaVfc6WY1DE8",
      "authorship_tag": "ABX9TyPl8dp2pNBmpG97tqik+AHW",
      "include_colab_link": true
    },
    "kernelspec": {
      "name": "python3",
      "display_name": "Python 3"
    },
    "language_info": {
      "name": "python"
    }
  },
  "cells": [
    {
      "cell_type": "markdown",
      "metadata": {
        "id": "view-in-github",
        "colab_type": "text"
      },
      "source": [
        "<a href=\"https://colab.research.google.com/github/Kpranay3151/Python-Basics-Conditional-Loops/blob/main/Dictionaries_And_Function.ipynb\" target=\"_parent\"><img src=\"https://colab.research.google.com/assets/colab-badge.svg\" alt=\"Open In Colab\"/></a>"
      ]
    },
    {
      "cell_type": "code",
      "metadata": {
        "colab": {
          "base_uri": "https://localhost:8080/"
        },
        "id": "eV66d4nwyMzU",
        "outputId": "8c61f42f-c749-4c93-c8a4-d1a1e4df1295"
      },
      "source": [
        "def area(a,b,c):\n",
        "  s=(a+b+c)/2\n",
        "  area=(s*(s-a)*(s-b)*(s-c))**0.5\n",
        "  return area\n",
        "a=int(input(\"length of side 'a' \"))\n",
        "b=int(input(\"length of side 'b' \"))\n",
        "c=int(input(\"length of side 'c' \"))\n",
        "print(\"Area of triangle is \",area(a,b,c))"
      ],
      "execution_count": 4,
      "outputs": [
        {
          "output_type": "stream",
          "name": "stdout",
          "text": [
            "length of side 'a' 8\n",
            "length of side 'b' 11\n",
            "length of side 'c' 13\n",
            "Area of triangle is  43.81780460041329\n"
          ]
        }
      ]
    },
    {
      "cell_type": "code",
      "metadata": {
        "id": "9gRgQAjEzzNq",
        "colab": {
          "base_uri": "https://localhost:8080/"
        },
        "outputId": "6a72aeb3-fa6c-4183-bd14-56044517e015"
      },
      "source": [
        "def filter_long_word(arr,n):\n",
        "  long_word=[]\n",
        "  for i in arr:\n",
        "    if len(i)>n:\n",
        "      long_word.append(i)\n",
        "  return long_word\n",
        "s=int(input(\"enter the size of list of words \"))\n",
        "arr=[]\n",
        "print(\"enter words \")\n",
        "for i in range(s):\n",
        "  t=input()\n",
        "  arr.append(t)\n",
        "n=int(input(\"enter the number \"))\n",
        "print(filter_long_word(arr,n))"
      ],
      "execution_count": 3,
      "outputs": [
        {
          "output_type": "stream",
          "name": "stdout",
          "text": [
            "enter the size of list of words 6\n",
            "enter words \n",
            "pranay\n",
            "praneeth\n",
            "tharun\n",
            "pavan\n",
            "vinay \n",
            "gnanesh\n",
            "enter the number 5\n",
            "['pranay', 'praneeth', 'tharun', 'vinay ', 'gnanesh']\n"
          ]
        }
      ]
    },
    {
      "cell_type": "code",
      "metadata": {
        "colab": {
          "base_uri": "https://localhost:8080/"
        },
        "id": "anYsrJxc-dmu",
        "outputId": "0279fdb4-7daf-4b42-cade-32a71459673b"
      },
      "source": [
        "def int_map(words):\n",
        "  int_list=[]\n",
        "  for i in words:\n",
        "    int_list.append(len(i))\n",
        "  return int_list\n",
        "si=int(input(\"enter the size of list of words \"))\n",
        "lst=[]\n",
        "print(\"enter words \")\n",
        "for i in range(si):\n",
        "  t=input()\n",
        "  lst.append(t)\n",
        "print(int_map(lst))"
      ],
      "execution_count": 9,
      "outputs": [
        {
          "output_type": "stream",
          "name": "stdout",
          "text": [
            "enter the size of list of words 3\n",
            "enter words \n",
            "ad\n",
            "cde\n",
            "erty\n",
            "[2, 3, 4]\n"
          ]
        }
      ]
    },
    {
      "cell_type": "code",
      "metadata": {
        "colab": {
          "base_uri": "https://localhost:8080/"
        },
        "id": "RLgGcDS4BOST",
        "outputId": "7f590000-c76a-4d69-ea2f-053666a80e48"
      },
      "source": [
        "def check_vowel(char):\n",
        "  if char in [\"a\",\"e\",\"i\",\"o\",\"u\",\"A\",\"E\",\"I\",\"O\",\"U\"]:\n",
        "    ans=True\n",
        "  else:\n",
        "    ans=False\n",
        "  return ans\n",
        "char=input(\"enter char \")[0]\n",
        "print(check_vowel(char))"
      ],
      "execution_count": 11,
      "outputs": [
        {
          "output_type": "stream",
          "name": "stdout",
          "text": [
            "enter char b\n",
            "False\n"
          ]
        }
      ]
    },
    {
      "cell_type": "code",
      "metadata": {
        "id": "akr9dEYHDgkP"
      },
      "source": [
        ""
      ],
      "execution_count": null,
      "outputs": []
    }
  ]
}