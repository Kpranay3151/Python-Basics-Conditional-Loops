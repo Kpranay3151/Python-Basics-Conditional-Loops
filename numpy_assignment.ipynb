{
  "nbformat": 4,
  "nbformat_minor": 0,
  "metadata": {
    "colab": {
      "name": "numpy assignment.ipynb",
      "provenance": [],
      "mount_file_id": "19W5a2JO9pCDMTsIwnICtXepMaCAmARwx",
      "authorship_tag": "ABX9TyPVIWg7elZRwv32PirBCmGS",
      "include_colab_link": true
    },
    "kernelspec": {
      "name": "python3",
      "display_name": "Python 3"
    },
    "language_info": {
      "name": "python"
    }
  },
  "cells": [
    {
      "cell_type": "markdown",
      "metadata": {
        "id": "view-in-github",
        "colab_type": "text"
      },
      "source": [
        "<a href=\"https://colab.research.google.com/github/Kpranay3151/Python-Basics-Conditional-Loops/blob/main/numpy_assignment.ipynb\" target=\"_parent\"><img src=\"https://colab.research.google.com/assets/colab-badge.svg\" alt=\"Open In Colab\"/></a>"
      ]
    },
    {
      "cell_type": "code",
      "metadata": {
        "id": "LkUGVrwXJamL"
      },
      "source": [
        "import numpy as np"
      ],
      "execution_count": 1,
      "outputs": []
    },
    {
      "cell_type": "code",
      "metadata": {
        "colab": {
          "base_uri": "https://localhost:8080/"
        },
        "id": "8AzfMaowJhzF",
        "outputId": "0c65f98f-5fd7-4a66-aa81-0ecd63ab4f36"
      },
      "source": [
        "#1\n",
        "np.vander([5,2,3,4],5)"
      ],
      "execution_count": 15,
      "outputs": [
        {
          "output_type": "execute_result",
          "data": {
            "text/plain": [
              "array([[625, 125,  25,   5,   1],\n",
              "       [ 16,   8,   4,   2,   1],\n",
              "       [ 81,  27,   9,   3,   1],\n",
              "       [256,  64,  16,   4,   1]])"
            ]
          },
          "metadata": {},
          "execution_count": 15
        }
      ]
    },
    {
      "cell_type": "code",
      "metadata": {
        "id": "GJbyV_EZKXOK"
      },
      "source": [
        "def matrix(l,n):\n",
        "  ans=[]\n",
        "  for i in l:\n",
        "    t=[]\n",
        "    for j in range(n-1,-1,-1):\n",
        "      t.append(i**j)\n",
        "    ans.append(t)\n",
        "  return (np.array(ans))"
      ],
      "execution_count": 18,
      "outputs": []
    },
    {
      "cell_type": "code",
      "metadata": {
        "colab": {
          "base_uri": "https://localhost:8080/"
        },
        "id": "cfX3-AeLKXs6",
        "outputId": "cd9cd870-3f3e-4173-9bbf-320d62499e4e"
      },
      "source": [
        "print(matrix([5,2,3,4],5))"
      ],
      "execution_count": 19,
      "outputs": [
        {
          "output_type": "stream",
          "name": "stdout",
          "text": [
            "[[625 125  25   5   1]\n",
            " [ 16   8   4   2   1]\n",
            " [ 81  27   9   3   1]\n",
            " [256  64  16   4   1]]\n"
          ]
        }
      ]
    },
    {
      "cell_type": "code",
      "metadata": {
        "id": "Qc_e0DHmLohS"
      },
      "source": [
        "#2\n",
        "def movingavg(l,n):\n",
        "  csum=np.cumsum(l,dtype=float)\n",
        "  return csum[n-1:]/3"
      ],
      "execution_count": 40,
      "outputs": []
    },
    {
      "cell_type": "code",
      "metadata": {
        "colab": {
          "base_uri": "https://localhost:8080/"
        },
        "id": "gWPYGBrcMyvB",
        "outputId": "d30f58c4-0f36-4c1a-b085-9f73b1c75f41"
      },
      "source": [
        "print(movingavg([3, 5, 7, 2, 8, 10, 11, 65, 72, 81, 99, 100, 150],3))"
      ],
      "execution_count": 41,
      "outputs": [
        {
          "output_type": "stream",
          "name": "stdout",
          "text": [
            "[  5.           5.66666667   8.33333333  11.66666667  15.33333333\n",
            "  37.          61.          88.         121.         154.33333333\n",
            " 204.33333333]\n"
          ]
        }
      ]
    },
    {
      "cell_type": "code",
      "metadata": {
        "id": "xXGdOVr5Sc9W"
      },
      "source": [
        ""
      ],
      "execution_count": null,
      "outputs": []
    }
  ]
}